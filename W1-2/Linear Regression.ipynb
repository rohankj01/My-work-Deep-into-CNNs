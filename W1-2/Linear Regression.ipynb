{
  "nbformat": 4,
  "nbformat_minor": 0,
  "metadata": {
    "kernelspec": {
      "display_name": "Python 3",
      "language": "python",
      "name": "python3"
    },
    "language_info": {
      "codemirror_mode": {
        "name": "ipython",
        "version": 3
      },
      "file_extension": ".py",
      "mimetype": "text/x-python",
      "name": "python",
      "nbconvert_exporter": "python",
      "pygments_lexer": "ipython3",
      "version": "3.7.6"
    },
    "colab": {
      "name": "Linear Regression.ipynb",
      "provenance": []
    }
  },
  "cells": [
    {
      "cell_type": "code",
      "metadata": {
        "id": "cp34LpM4Lg3N"
      },
      "source": [
        "import numpy as np\n",
        "import pandas as pd\n",
        "import matplotlib.pyplot as plt\n",
        "%matplotlib inline"
      ],
      "execution_count": 30,
      "outputs": []
    },
    {
      "cell_type": "code",
      "metadata": {
        "colab": {
          "base_uri": "https://localhost:8080/"
        },
        "id": "EWOXgW6jMd4_",
        "outputId": "8e8fb26e-f90e-450d-875c-90ccdc012a4d"
      },
      "source": [
        "from google.colab import drive\n",
        "drive.mount('/content/drive')"
      ],
      "execution_count": 4,
      "outputs": [
        {
          "output_type": "stream",
          "text": [
            "Mounted at /content/drive\n"
          ],
          "name": "stdout"
        }
      ]
    },
    {
      "cell_type": "code",
      "metadata": {
        "colab": {
          "base_uri": "https://localhost:8080/"
        },
        "id": "BeQcfakpz_eu",
        "outputId": "8e8c411c-d818-4f3a-ac1d-d77250bfdd05"
      },
      "source": [
        "%cd /content/drive/MyDrive/Summers 2021/Deep into CNNs/Project/W1-2"
      ],
      "execution_count": 262,
      "outputs": [
        {
          "output_type": "stream",
          "text": [
            "/content/drive/MyDrive/Summers 2021/Deep into CNNs/Project/W1-2\n"
          ],
          "name": "stdout"
        }
      ]
    },
    {
      "cell_type": "code",
      "metadata": {
        "id": "KH0cjFxfLmnP"
      },
      "source": [
        "data = pd.read_csv('HappinessAlcoholConsumption.csv')"
      ],
      "execution_count": 263,
      "outputs": []
    },
    {
      "cell_type": "code",
      "metadata": {
        "id": "K45vE3WMMoyo",
        "colab": {
          "base_uri": "https://localhost:8080/",
          "height": 407
        },
        "outputId": "8c66f148-892e-4d06-a54a-f6c7ca01aa80"
      },
      "source": [
        "data"
      ],
      "execution_count": 264,
      "outputs": [
        {
          "output_type": "execute_result",
          "data": {
            "text/html": [
              "<div>\n",
              "<style scoped>\n",
              "    .dataframe tbody tr th:only-of-type {\n",
              "        vertical-align: middle;\n",
              "    }\n",
              "\n",
              "    .dataframe tbody tr th {\n",
              "        vertical-align: top;\n",
              "    }\n",
              "\n",
              "    .dataframe thead th {\n",
              "        text-align: right;\n",
              "    }\n",
              "</style>\n",
              "<table border=\"1\" class=\"dataframe\">\n",
              "  <thead>\n",
              "    <tr style=\"text-align: right;\">\n",
              "      <th></th>\n",
              "      <th>Country</th>\n",
              "      <th>Region</th>\n",
              "      <th>Hemisphere</th>\n",
              "      <th>HappinessScore</th>\n",
              "      <th>HDI</th>\n",
              "      <th>GDP_PerCapita</th>\n",
              "      <th>Beer_PerCapita</th>\n",
              "      <th>Spirit_PerCapita</th>\n",
              "      <th>Wine_PerCapita</th>\n",
              "    </tr>\n",
              "  </thead>\n",
              "  <tbody>\n",
              "    <tr>\n",
              "      <th>0</th>\n",
              "      <td>Denmark</td>\n",
              "      <td>Western Europe</td>\n",
              "      <td>north</td>\n",
              "      <td>7.526</td>\n",
              "      <td>928</td>\n",
              "      <td>53.579</td>\n",
              "      <td>224</td>\n",
              "      <td>81</td>\n",
              "      <td>278</td>\n",
              "    </tr>\n",
              "    <tr>\n",
              "      <th>1</th>\n",
              "      <td>Switzerland</td>\n",
              "      <td>Western Europe</td>\n",
              "      <td>north</td>\n",
              "      <td>7.509</td>\n",
              "      <td>943</td>\n",
              "      <td>79.866</td>\n",
              "      <td>185</td>\n",
              "      <td>100</td>\n",
              "      <td>280</td>\n",
              "    </tr>\n",
              "    <tr>\n",
              "      <th>2</th>\n",
              "      <td>Iceland</td>\n",
              "      <td>Western Europe</td>\n",
              "      <td>north</td>\n",
              "      <td>7.501</td>\n",
              "      <td>933</td>\n",
              "      <td>60.530</td>\n",
              "      <td>233</td>\n",
              "      <td>61</td>\n",
              "      <td>78</td>\n",
              "    </tr>\n",
              "    <tr>\n",
              "      <th>3</th>\n",
              "      <td>Norway</td>\n",
              "      <td>Western Europe</td>\n",
              "      <td>north</td>\n",
              "      <td>7.498</td>\n",
              "      <td>951</td>\n",
              "      <td>70.890</td>\n",
              "      <td>169</td>\n",
              "      <td>71</td>\n",
              "      <td>129</td>\n",
              "    </tr>\n",
              "    <tr>\n",
              "      <th>4</th>\n",
              "      <td>Finland</td>\n",
              "      <td>Western Europe</td>\n",
              "      <td>north</td>\n",
              "      <td>7.413</td>\n",
              "      <td>918</td>\n",
              "      <td>43.433</td>\n",
              "      <td>263</td>\n",
              "      <td>133</td>\n",
              "      <td>97</td>\n",
              "    </tr>\n",
              "    <tr>\n",
              "      <th>...</th>\n",
              "      <td>...</td>\n",
              "      <td>...</td>\n",
              "      <td>...</td>\n",
              "      <td>...</td>\n",
              "      <td>...</td>\n",
              "      <td>...</td>\n",
              "      <td>...</td>\n",
              "      <td>...</td>\n",
              "      <td>...</td>\n",
              "    </tr>\n",
              "    <tr>\n",
              "      <th>117</th>\n",
              "      <td>Tanzania</td>\n",
              "      <td>Sub-Saharan Africa</td>\n",
              "      <td>south</td>\n",
              "      <td>3.666</td>\n",
              "      <td>533</td>\n",
              "      <td>878.000</td>\n",
              "      <td>36</td>\n",
              "      <td>6</td>\n",
              "      <td>1</td>\n",
              "    </tr>\n",
              "    <tr>\n",
              "      <th>118</th>\n",
              "      <td>Liberia</td>\n",
              "      <td>Sub-Saharan Africa</td>\n",
              "      <td>north</td>\n",
              "      <td>3.622</td>\n",
              "      <td>432</td>\n",
              "      <td>455.000</td>\n",
              "      <td>19</td>\n",
              "      <td>152</td>\n",
              "      <td>2</td>\n",
              "    </tr>\n",
              "    <tr>\n",
              "      <th>119</th>\n",
              "      <td>Benin</td>\n",
              "      <td>Sub-Saharan Africa</td>\n",
              "      <td>north</td>\n",
              "      <td>3.484</td>\n",
              "      <td>512</td>\n",
              "      <td>789.000</td>\n",
              "      <td>34</td>\n",
              "      <td>4</td>\n",
              "      <td>13</td>\n",
              "    </tr>\n",
              "    <tr>\n",
              "      <th>120</th>\n",
              "      <td>Togo</td>\n",
              "      <td>Sub-Saharan Africa</td>\n",
              "      <td>north</td>\n",
              "      <td>3.303</td>\n",
              "      <td>500</td>\n",
              "      <td>577.000</td>\n",
              "      <td>36</td>\n",
              "      <td>2</td>\n",
              "      <td>19</td>\n",
              "    </tr>\n",
              "    <tr>\n",
              "      <th>121</th>\n",
              "      <td>Syria</td>\n",
              "      <td>Middle East and Northern Africa</td>\n",
              "      <td>north</td>\n",
              "      <td>3.069</td>\n",
              "      <td>536</td>\n",
              "      <td>2.058</td>\n",
              "      <td>5</td>\n",
              "      <td>35</td>\n",
              "      <td>16</td>\n",
              "    </tr>\n",
              "  </tbody>\n",
              "</table>\n",
              "<p>122 rows × 9 columns</p>\n",
              "</div>"
            ],
            "text/plain": [
              "         Country  ... Wine_PerCapita\n",
              "0        Denmark  ...            278\n",
              "1    Switzerland  ...            280\n",
              "2        Iceland  ...             78\n",
              "3         Norway  ...            129\n",
              "4        Finland  ...             97\n",
              "..           ...  ...            ...\n",
              "117     Tanzania  ...              1\n",
              "118      Liberia  ...              2\n",
              "119        Benin  ...             13\n",
              "120         Togo  ...             19\n",
              "121        Syria  ...             16\n",
              "\n",
              "[122 rows x 9 columns]"
            ]
          },
          "metadata": {
            "tags": []
          },
          "execution_count": 264
        }
      ]
    },
    {
      "cell_type": "code",
      "metadata": {
        "id": "NRCV9Tv8eCn9"
      },
      "source": [
        "data['Alcohol'] = (data['Beer_PerCapita'] + data['Spirit_PerCapita'] + data['Wine_PerCapita'])/3"
      ],
      "execution_count": 265,
      "outputs": []
    },
    {
      "cell_type": "code",
      "metadata": {
        "colab": {
          "base_uri": "https://localhost:8080/",
          "height": 407
        },
        "id": "oDH5ipUeeYn-",
        "outputId": "bf118aa4-d03e-4cfe-8fb2-119a746ae823"
      },
      "source": [
        "data"
      ],
      "execution_count": 266,
      "outputs": [
        {
          "output_type": "execute_result",
          "data": {
            "text/html": [
              "<div>\n",
              "<style scoped>\n",
              "    .dataframe tbody tr th:only-of-type {\n",
              "        vertical-align: middle;\n",
              "    }\n",
              "\n",
              "    .dataframe tbody tr th {\n",
              "        vertical-align: top;\n",
              "    }\n",
              "\n",
              "    .dataframe thead th {\n",
              "        text-align: right;\n",
              "    }\n",
              "</style>\n",
              "<table border=\"1\" class=\"dataframe\">\n",
              "  <thead>\n",
              "    <tr style=\"text-align: right;\">\n",
              "      <th></th>\n",
              "      <th>Country</th>\n",
              "      <th>Region</th>\n",
              "      <th>Hemisphere</th>\n",
              "      <th>HappinessScore</th>\n",
              "      <th>HDI</th>\n",
              "      <th>GDP_PerCapita</th>\n",
              "      <th>Beer_PerCapita</th>\n",
              "      <th>Spirit_PerCapita</th>\n",
              "      <th>Wine_PerCapita</th>\n",
              "      <th>Alcohol</th>\n",
              "    </tr>\n",
              "  </thead>\n",
              "  <tbody>\n",
              "    <tr>\n",
              "      <th>0</th>\n",
              "      <td>Denmark</td>\n",
              "      <td>Western Europe</td>\n",
              "      <td>north</td>\n",
              "      <td>7.526</td>\n",
              "      <td>928</td>\n",
              "      <td>53.579</td>\n",
              "      <td>224</td>\n",
              "      <td>81</td>\n",
              "      <td>278</td>\n",
              "      <td>194.333333</td>\n",
              "    </tr>\n",
              "    <tr>\n",
              "      <th>1</th>\n",
              "      <td>Switzerland</td>\n",
              "      <td>Western Europe</td>\n",
              "      <td>north</td>\n",
              "      <td>7.509</td>\n",
              "      <td>943</td>\n",
              "      <td>79.866</td>\n",
              "      <td>185</td>\n",
              "      <td>100</td>\n",
              "      <td>280</td>\n",
              "      <td>188.333333</td>\n",
              "    </tr>\n",
              "    <tr>\n",
              "      <th>2</th>\n",
              "      <td>Iceland</td>\n",
              "      <td>Western Europe</td>\n",
              "      <td>north</td>\n",
              "      <td>7.501</td>\n",
              "      <td>933</td>\n",
              "      <td>60.530</td>\n",
              "      <td>233</td>\n",
              "      <td>61</td>\n",
              "      <td>78</td>\n",
              "      <td>124.000000</td>\n",
              "    </tr>\n",
              "    <tr>\n",
              "      <th>3</th>\n",
              "      <td>Norway</td>\n",
              "      <td>Western Europe</td>\n",
              "      <td>north</td>\n",
              "      <td>7.498</td>\n",
              "      <td>951</td>\n",
              "      <td>70.890</td>\n",
              "      <td>169</td>\n",
              "      <td>71</td>\n",
              "      <td>129</td>\n",
              "      <td>123.000000</td>\n",
              "    </tr>\n",
              "    <tr>\n",
              "      <th>4</th>\n",
              "      <td>Finland</td>\n",
              "      <td>Western Europe</td>\n",
              "      <td>north</td>\n",
              "      <td>7.413</td>\n",
              "      <td>918</td>\n",
              "      <td>43.433</td>\n",
              "      <td>263</td>\n",
              "      <td>133</td>\n",
              "      <td>97</td>\n",
              "      <td>164.333333</td>\n",
              "    </tr>\n",
              "    <tr>\n",
              "      <th>...</th>\n",
              "      <td>...</td>\n",
              "      <td>...</td>\n",
              "      <td>...</td>\n",
              "      <td>...</td>\n",
              "      <td>...</td>\n",
              "      <td>...</td>\n",
              "      <td>...</td>\n",
              "      <td>...</td>\n",
              "      <td>...</td>\n",
              "      <td>...</td>\n",
              "    </tr>\n",
              "    <tr>\n",
              "      <th>117</th>\n",
              "      <td>Tanzania</td>\n",
              "      <td>Sub-Saharan Africa</td>\n",
              "      <td>south</td>\n",
              "      <td>3.666</td>\n",
              "      <td>533</td>\n",
              "      <td>878.000</td>\n",
              "      <td>36</td>\n",
              "      <td>6</td>\n",
              "      <td>1</td>\n",
              "      <td>14.333333</td>\n",
              "    </tr>\n",
              "    <tr>\n",
              "      <th>118</th>\n",
              "      <td>Liberia</td>\n",
              "      <td>Sub-Saharan Africa</td>\n",
              "      <td>north</td>\n",
              "      <td>3.622</td>\n",
              "      <td>432</td>\n",
              "      <td>455.000</td>\n",
              "      <td>19</td>\n",
              "      <td>152</td>\n",
              "      <td>2</td>\n",
              "      <td>57.666667</td>\n",
              "    </tr>\n",
              "    <tr>\n",
              "      <th>119</th>\n",
              "      <td>Benin</td>\n",
              "      <td>Sub-Saharan Africa</td>\n",
              "      <td>north</td>\n",
              "      <td>3.484</td>\n",
              "      <td>512</td>\n",
              "      <td>789.000</td>\n",
              "      <td>34</td>\n",
              "      <td>4</td>\n",
              "      <td>13</td>\n",
              "      <td>17.000000</td>\n",
              "    </tr>\n",
              "    <tr>\n",
              "      <th>120</th>\n",
              "      <td>Togo</td>\n",
              "      <td>Sub-Saharan Africa</td>\n",
              "      <td>north</td>\n",
              "      <td>3.303</td>\n",
              "      <td>500</td>\n",
              "      <td>577.000</td>\n",
              "      <td>36</td>\n",
              "      <td>2</td>\n",
              "      <td>19</td>\n",
              "      <td>19.000000</td>\n",
              "    </tr>\n",
              "    <tr>\n",
              "      <th>121</th>\n",
              "      <td>Syria</td>\n",
              "      <td>Middle East and Northern Africa</td>\n",
              "      <td>north</td>\n",
              "      <td>3.069</td>\n",
              "      <td>536</td>\n",
              "      <td>2.058</td>\n",
              "      <td>5</td>\n",
              "      <td>35</td>\n",
              "      <td>16</td>\n",
              "      <td>18.666667</td>\n",
              "    </tr>\n",
              "  </tbody>\n",
              "</table>\n",
              "<p>122 rows × 10 columns</p>\n",
              "</div>"
            ],
            "text/plain": [
              "         Country                           Region  ... Wine_PerCapita     Alcohol\n",
              "0        Denmark                   Western Europe  ...            278  194.333333\n",
              "1    Switzerland                   Western Europe  ...            280  188.333333\n",
              "2        Iceland                   Western Europe  ...             78  124.000000\n",
              "3         Norway                   Western Europe  ...            129  123.000000\n",
              "4        Finland                   Western Europe  ...             97  164.333333\n",
              "..           ...                              ...  ...            ...         ...\n",
              "117     Tanzania               Sub-Saharan Africa  ...              1   14.333333\n",
              "118      Liberia               Sub-Saharan Africa  ...              2   57.666667\n",
              "119        Benin               Sub-Saharan Africa  ...             13   17.000000\n",
              "120         Togo               Sub-Saharan Africa  ...             19   19.000000\n",
              "121        Syria  Middle East and Northern Africa  ...             16   18.666667\n",
              "\n",
              "[122 rows x 10 columns]"
            ]
          },
          "metadata": {
            "tags": []
          },
          "execution_count": 266
        }
      ]
    },
    {
      "cell_type": "code",
      "metadata": {
        "id": "mTGbCkhweafD"
      },
      "source": [
        "new_data = data[['Country','Alcohol','HappinessScore']]\n",
        "data = new_data"
      ],
      "execution_count": 267,
      "outputs": []
    },
    {
      "cell_type": "code",
      "metadata": {
        "id": "yTP5FFxZeudy"
      },
      "source": [
        "# data/\n",
        "A = data[['Alcohol', 'HappinessScore']]"
      ],
      "execution_count": 268,
      "outputs": []
    },
    {
      "cell_type": "code",
      "metadata": {
        "id": "8HG-iB_Ee2WU"
      },
      "source": [
        "matrix = np.array(A.values,'float')"
      ],
      "execution_count": 269,
      "outputs": []
    },
    {
      "cell_type": "code",
      "metadata": {
        "id": "HNkRgkMSoYTS"
      },
      "source": [
        "# matrix[0:100,:]"
      ],
      "execution_count": 293,
      "outputs": []
    },
    {
      "cell_type": "code",
      "metadata": {
        "id": "wQuZJ7WnobUL"
      },
      "source": [
        "\n",
        "X = matrix[:,0]\n",
        "y = matrix[:,1]"
      ],
      "execution_count": 271,
      "outputs": []
    },
    {
      "cell_type": "code",
      "metadata": {
        "id": "Wm7_eqrgo0fq"
      },
      "source": [
        "X = X/(np.max(X))"
      ],
      "execution_count": 272,
      "outputs": []
    },
    {
      "cell_type": "code",
      "metadata": {
        "colab": {
          "base_uri": "https://localhost:8080/",
          "height": 295
        },
        "id": "ctE160OdqLNp",
        "outputId": "8f4b245e-551b-4547-df5d-5f0d7ce4bd6c"
      },
      "source": [
        "plt.plot(X,y,'ro')\n",
        "plt.ylabel('HappinessScore')\n",
        "plt.xlabel('Alcohol')\n",
        "plt.legend(['HappinessScore'])\n",
        "plt.title('Alcohol vs Happiness')\n",
        "plt.grid()\n",
        "plt.show()"
      ],
      "execution_count": 273,
      "outputs": [
        {
          "output_type": "display_data",
          "data": {
            "image/png": "[encoded data removed]",
            "text/plain": [
              "<Figure size 432x288 with 1 Axes>"
            ]
          },
          "metadata": {
            "tags": [],
            "needs_background": "light"
          }
        }
      ]
    },
    {
      "cell_type": "code",
      "metadata": {
        "id": "PMlu95_Rq_Sv"
      },
      "source": [
        "def computecost(x,y,theta):\n",
        "  cost = 1/(2*m)*np.sum(((x@theta)-y)**2)\n",
        "  return cost"
      ],
      "execution_count": 274,
      "outputs": []
    },
    {
      "cell_type": "code",
      "metadata": {
        "id": "OizKGKe7r5JD"
      },
      "source": [
        "m = np.size(y)\n",
        "X = X.reshape([122,1])\n",
        "x = np.hstack([np.ones_like(X),X])\n",
        "\n",
        "theta = np.zeros([2,1])"
      ],
      "execution_count": 275,
      "outputs": []
    },
    {
      "cell_type": "code",
      "metadata": {
        "colab": {
          "base_uri": "https://localhost:8080/"
        },
        "id": "T0E5jEi2sSeg",
        "outputId": "9ce54edd-3b04-4893-b637-23797f515a12"
      },
      "source": [
        "# x\n",
        "print(computecost(x,y,theta))"
      ],
      "execution_count": 276,
      "outputs": [
        {
          "output_type": "stream",
          "text": [
            "1941.7825705000002\n"
          ],
          "name": "stdout"
        }
      ]
    },
    {
      "cell_type": "code",
      "metadata": {
        "id": "GH_ygN0Bxoaa"
      },
      "source": [
        "def gradient(x,y,theta):\n",
        "  alpha = 1e-5\n",
        "  iteration = 2000\n",
        "  \n",
        "  cost_history = np.zeros([iteration,1])\n",
        "\n",
        "  for iter in range(0,2000):\n",
        "    error = (x@theta) - y\n",
        "    temp0 = theta[0] - ((alpha/m)*np.sum(error*x[:,0]))\n",
        "    temp1 = theta[1] - ((alpha/m)*np.sum(error*x[:,1]))\n",
        "    theta = np.array([temp0, temp1]).reshape(2,1)\n",
        "    cost_history[iter] = (1/(2*m))*(np.sum(((x@theta)-y)**2))\n",
        "  return theta, cost_history"
      ],
      "execution_count": 277,
      "outputs": []
    },
    {
      "cell_type": "code",
      "metadata": {
        "colab": {
          "base_uri": "https://localhost:8080/"
        },
        "id": "hWCFNCuFxuYh",
        "outputId": "6f597bfe-80a8-47d8-a82e-8d5eb6fb5399"
      },
      "source": [
        "theta, cost = gradient(x,y,theta)\n",
        "print(theta)"
      ],
      "execution_count": 278,
      "outputs": [
        {
          "output_type": "stream",
          "text": [
            "[[4.22499706]\n",
            " [2.38031097]]\n"
          ],
          "name": "stdout"
        }
      ]
    },
    {
      "cell_type": "code",
      "metadata": {
        "colab": {
          "base_uri": "https://localhost:8080/"
        },
        "id": "fYEua-KO8Qiw",
        "outputId": "d13577e8-a067-44b7-8e28-816c37a57847"
      },
      "source": [
        "print(cost)"
      ],
      "execution_count": 279,
      "outputs": [
        {
          "output_type": "stream",
          "text": [
            "[[1936.24274283]\n",
            " [1930.71941566]\n",
            " [1925.21254022]\n",
            " ...\n",
            " [ 115.49668262]\n",
            " [ 115.49460323]\n",
            " [ 115.49255932]]\n"
          ],
          "name": "stdout"
        }
      ]
    },
    {
      "cell_type": "code",
      "metadata": {
        "colab": {
          "base_uri": "https://localhost:8080/",
          "height": 295
        },
        "id": "sUwqZMUxEc0E",
        "outputId": "e813ae63-54af-40d2-ea7e-bba2b6b1bb5d"
      },
      "source": [
        "plt.plot(X,y,'ro')\n",
        "plt.plot(X,x@theta,'-')\n",
        "plt.axis([0,1,3,7])\n",
        "plt.ylabel('Happiness Score')\n",
        "plt.xlabel('Alcohol Consumption')\n",
        "plt.legend(['Happy','LinearFit'])\n",
        "plt.title('Alcohol vs Happiness')\n",
        "plt.grid()\n",
        "plt.show()"
      ],
      "execution_count": 282,
      "outputs": [
        {
          "output_type": "display_data",
          "data": {
            "image/png": "[encoded data removed]",
            "text/plain": [
              "<Figure size 432x288 with 1 Axes>"
            ]
          },
          "metadata": {
            "tags": [],
            "needs_background": "light"
          }
        }
      ]
    },
    {
      "cell_type": "code",
      "metadata": {
        "colab": {
          "base_uri": "https://localhost:8080/"
        },
        "id": "JpHapQYSIcQU",
        "outputId": "4cb01a13-c6a6-4562-f3bc-fd0c473b3f35"
      },
      "source": [
        "predict1 = [0.2,(164/np.max(matrix[:,0]))] @ theta\n",
        "print(predict1)"
      ],
      "execution_count": 290,
      "outputs": [
        {
          "output_type": "stream",
          "text": [
            "[2.60607159]\n"
          ],
          "name": "stdout"
        }
      ]
    },
    {
      "cell_type": "code",
      "metadata": {
        "id": "pathndcoOUmj"
      },
      "source": [
        ""
      ],
      "execution_count": null,
      "outputs": []
    }
  ]
}