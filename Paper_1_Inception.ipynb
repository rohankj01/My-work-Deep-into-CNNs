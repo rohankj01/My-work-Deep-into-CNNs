{
  "nbformat": 4,
  "nbformat_minor": 0,
  "metadata": {
    "colab": {
      "name": "Paper-1_Inception.ipynb",
      "provenance": [],
      "authorship_tag": "ABX9TyN5znEorJqBlTs4U/qSZjFD",
      "include_colab_link": true
    },
    "kernelspec": {
      "name": "python3",
      "display_name": "Python 3"
    },
    "language_info": {
      "name": "python"
    }
  },
  "cells": [
    {
      "cell_type": "markdown",
      "metadata": {
        "id": "view-in-github",
        "colab_type": "text"
      },
      "source": [
        "<a href=\"https://colab.research.google.com/github/rohankj01/My-work-Deep-into-CNNs/blob/main/Paper_1_Inception.ipynb\" target=\"_parent\"><img src=\"https://colab.research.google.com/assets/colab-badge.svg\" alt=\"Open In Colab\"/></a>"
      ]
    },
    {
      "cell_type": "code",
      "metadata": {
        "id": "BG7wNwoOFu_i"
      },
      "source": [
        ""
      ],
      "execution_count": null,
      "outputs": []
    },
    {
      "cell_type": "code",
      "metadata": {
        "id": "9iC6K5sVZ5XW"
      },
      "source": [
        "import torch\n",
        "import torch.nn as nn\n",
        "import torch.nn.functional as F"
      ],
      "execution_count": 10,
      "outputs": []
    },
    {
      "cell_type": "code",
      "metadata": {
        "id": "x2_v2A6Y0wx1"
      },
      "source": [
        "class Inception(nn.Module):\n",
        "\n",
        "  def __init__(self):\n",
        "    super(Inception3, self).__init__()\n",
        "\n",
        "    self.Conv2d_1a_3x3 = conv_block(3, 32, kernel_size=3, stride=2)\n",
        "    self.Conv2d_2a_3x3 = conv_block(32, 32, kernel_size=3)\n",
        "    self.Conv2d_2b_3x3 = conv_block(32, 64, kernel_size = 3, padding=1)\n",
        "\n",
        "    self.maxpool1 = nn.MaxPool2d(kernel_size=3, stride=2)\n",
        "\n",
        "    self.Conv2d_3b_1x1 = conv_block(in_channels, 80, kernel_size=1)\n",
        "    self.Conv2d_4a_3x3 = conv_block(80, 192, kernel_size=3)\n",
        "\n",
        "    self.maxpool2 = nn.MaxPool2d(kernel_size=3, stride=2)\n",
        "\n",
        "    self.Mixed_5b = inceptionA(192, pool_features=32)\n",
        "    self.Mixed_5c = inceptionA(256, pool_features=64)\n",
        "    self.Mixed_5d = inceptionA(288, pool_features=64)\n",
        "    self.Mixed_6a = inceptionB(288)\n",
        "    self.Mixed_6b = inceptionC(768, channels_7x7=128)\n",
        "    self.Mixed_6c = inceptionC(768, channels_7x7=160)\n",
        "    self.Mixed_6d = inceptionC(768, channels_7x7=160)\n",
        "    self.Mixed_6e = inceptionC(768, channels_7x7=192)\n",
        "    self.Mixed_7a = inceptionD(768)\n",
        "    self.Mixed_7b = inceptionE(1280)\n",
        "    self.Mixed_7c = inceptionE(2048)\n",
        "\n",
        "    self.avgpool = nn.AdaptiveAvgPool2d((1, 1))\n",
        "    self.dropout = nn.Dropout()\n",
        "    \n",
        "    self.fc = nn.Linear(2048, num_classes)"
      ],
      "execution_count": 11,
      "outputs": []
    },
    {
      "cell_type": "code",
      "metadata": {
        "id": "M4pS6HJgAAb9"
      },
      "source": [
        "def _forward(self, x):\n",
        "\n",
        "  x = self.Conv2d_1a_3x3(x)\n",
        "  x = self.Conv2d_2a_3x3(x)\n",
        "  x = self.Conv2d_2b_3x3(x)\n",
        "\n",
        "  x = self.maxpool1(x)\n",
        "\n",
        "  x = self.Conv2d_3b_1x1(x)\n",
        "  x = self.Conv2d_4a_3x3(x)\n",
        "\n",
        "  x = self.maxpool2(x)\n",
        "\n",
        "  x = self.Mixed_5b(x)\n",
        "  x = self.Mixed_5c(x)\n",
        "  x = self.Mixed_5d(x)\n",
        "  x = self.Mixed_6a(x)\n",
        "  x = self.Mixed_6b(x)\n",
        "  x = self.Mixed_6c(x)\n",
        "  x = self.Mixed_6d(x)\n",
        "  x = self.Mixed_6e(x)\n",
        "  x = self.Mixed_7a(x)\n",
        "  x = self.Mixed_7b(x)\n",
        "  x = self.Mixed_7c(x)\n",
        "\n",
        "  x = self.avgpool(x)\n",
        "  x = self.dropout(x)\n",
        "\n",
        "  x = torch.flatten(x, 1)\n",
        "\n",
        "  x = self.fc(x)\n",
        "\n",
        "\n",
        "\n",
        "  return x"
      ],
      "execution_count": 12,
      "outputs": []
    },
    {
      "cell_type": "code",
      "metadata": {
        "id": "-oez0iSFBXow"
      },
      "source": [
        ""
      ],
      "execution_count": null,
      "outputs": []
    }
  ]
}